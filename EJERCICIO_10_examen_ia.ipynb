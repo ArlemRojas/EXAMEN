{
 "cells": [
  {
   "cell_type": "raw",
   "metadata": {},
   "source": [
    "# REGRESION LINEAL"
   ]
  },
  {
   "cell_type": "code",
   "execution_count": 1,
   "metadata": {},
   "outputs": [
    {
     "name": "stdout",
     "output_type": "stream",
     "text": [
      "La pendiente es 2381.0121031398\n",
      "El intercepto es -20075.859498333622\n"
     ]
    },
    {
     "data": {
      "text/plain": [
       "<Figure size 640x480 with 1 Axes>"
      ]
     },
     "metadata": {},
     "output_type": "display_data"
    },
    {
     "name": "stdout",
     "output_type": "stream",
     "text": [
      "precio en dia 1  23790045.171899665\n"
     ]
    }
   ],
   "source": [
    "import numpy as np\n",
    "import matplotlib.pyplot as plt\n",
    "\n",
    "\n",
    "x=[50,38,28,8,8,16,5,2]\n",
    "y=[134844,55526,5523,4067,611,4459,2195,1225]\n",
    "n=len(x)\n",
    "nu=len(y)\n",
    "x=np.array(x)\n",
    "y=np.array(y)\n",
    "sumx=sum(x)\n",
    "sumy=sum(y)\n",
    "promx=sumx/n\n",
    "promy=sumy/nu\n",
    "sumx2=sum(x*x)\n",
    "sumxy=sum(x*y)\n",
    "b=(sumx*sumy-n*sumxy)/(sumx**2-n*sumx2)\n",
    "a=promy-b*promx\n",
    "print(\"La pendiente es\" ,b)\n",
    "print(\"El intercepto es\",a)\n",
    "\n",
    "plt.plot(x,y,'o', label= 'datos')\n",
    "plt.plot(x, a+b*x, label= \"ajuste\")\n",
    "plt.xlabel('visita miles')\n",
    "plt.ylabel('valor de la empresa')\n",
    "plt.grid()\n",
    "plt.legend()\n",
    "plt.show()\n",
    "\n",
    "\n",
    "\n",
    "\n",
    "print(\"precio en dia 1 \", a+b*10000)"
   ]
  },
  {
   "cell_type": "markdown",
   "metadata": {},
   "source": [
    "# KMEANS"
   ]
  },
  {
   "cell_type": "code",
   "execution_count": 3,
   "metadata": {},
   "outputs": [
    {
     "data": {
      "image/png": "[encoded data removed]",
      "text/plain": [
       "<Figure size 432x288 with 1 Axes>"
      ]
     },
     "metadata": {
      "needs_background": "light"
     },
     "output_type": "display_data"
    },
    {
     "ename": "NameError",
     "evalue": "name 'Kmeans' is not defined",
     "output_type": "error",
     "traceback": [
      "\u001b[1;31m---------------------------------------------------------------------------\u001b[0m",
      "\u001b[1;31mNameError\u001b[0m                                 Traceback (most recent call last)",
      "\u001b[1;32m<ipython-input-3-f8f5b9c17a8c>\u001b[0m in \u001b[0;36m<module>\u001b[1;34m\u001b[0m\n\u001b[0;32m     11\u001b[0m \u001b[0mplt\u001b[0m\u001b[1;33m.\u001b[0m\u001b[0mshow\u001b[0m\u001b[1;33m(\u001b[0m\u001b[1;33m)\u001b[0m\u001b[1;33m\u001b[0m\u001b[1;33m\u001b[0m\u001b[0m\n\u001b[0;32m     12\u001b[0m \u001b[0mK\u001b[0m\u001b[1;33m=\u001b[0m\u001b[1;36m3\u001b[0m\u001b[1;33m\u001b[0m\u001b[1;33m\u001b[0m\u001b[0m\n\u001b[1;32m---> 13\u001b[1;33m \u001b[0mmodelo_k_means\u001b[0m \u001b[1;33m=\u001b[0m \u001b[0mKmeans\u001b[0m\u001b[1;33m(\u001b[0m\u001b[0mn_clusters\u001b[0m\u001b[1;33m=\u001b[0m\u001b[0mK\u001b[0m\u001b[1;33m)\u001b[0m\u001b[1;33m\u001b[0m\u001b[1;33m\u001b[0m\u001b[0m\n\u001b[0m\u001b[0;32m     14\u001b[0m \u001b[0mmodelo_k_means\u001b[0m\u001b[1;33m.\u001b[0m\u001b[0mfit\u001b[0m\u001b[1;33m(\u001b[0m\u001b[0mX\u001b[0m\u001b[1;33m)\u001b[0m\u001b[1;33m\u001b[0m\u001b[1;33m\u001b[0m\u001b[0m\n\u001b[0;32m     15\u001b[0m \u001b[0mcentroides\u001b[0m \u001b[1;33m=\u001b[0m \u001b[0mmodelo_k_means\u001b[0m\u001b[1;33m.\u001b[0m\u001b[0mcluster_centers_\u001b[0m\u001b[1;33m\u001b[0m\u001b[1;33m\u001b[0m\u001b[0m\n",
      "\u001b[1;31mNameError\u001b[0m: name 'Kmeans' is not defined"
     ]
    }
   ],
   "source": [
    "import numpy as np\n",
    "import matplotlib.pyplot as plt\n",
    "\n",
    "\n",
    "v1=[50,38,28,8,8,16,5,2]\n",
    "v2=[134844,55526,5523,4067,611,4459,2195,1225]\n",
    "x=np.array(v1)\n",
    "y=np.array(v2)\n",
    "X=np.array(list(zip(x,y))).reshape(len(x),2)\n",
    "plt.plot(v1,v2, 'o')\n",
    "plt.show()\n",
    "K=3\n",
    "modelo_k_means = KMeans(n_clusters=K)\n",
    "modelo_k_means.fit(X)\n",
    "centroides = modelo_k_means.cluster_centers_\n",
    "etiquetas = modelo_k_means.labels_\n",
    "predecir = modelo_k_means.predict(X)\n",
    "print(predecir)\n",
    "print(modelo_k_means.cluster_centers_)\n",
    "\n",
    "centroides = modelo_k_means.cluster_centers_\n",
    "etiquetas = modelo_k_means.labels_\n",
    "\n",
    "plt.plot(X[etiquetas==0,0],X[etiquetas==0,1],'r.', label='cluster 1')\n",
    "plt.plot(X[etiquetas==1,0],X[etiquetas==1,1],'b.', label='cluster 2')\n",
    "plt.plot(X[etiquetas==2,0],X[etiquetas==2,1],'g.', label='cluster 3')\n",
    "\n",
    "plt.plot(centroides[:,0],centroides[:,1],'mo',markersize=6, label='centroides')\n",
    "\n",
    "plt.legend(loc='best')\n",
    "plt.show()\n",
    "\n",
    "prueba = [[3,5]]\n",
    "prediccion = modelo_k_means.predict(prueba)\n",
    "print(\"Prediccion: ({0},{1} )\".format(prueba,prediccion))\n"
   ]
  },
  {
   "cell_type": "code",
   "execution_count": null,
   "metadata": {},
   "outputs": [],
   "source": []
  }
 ],
 "metadata": {
  "kernelspec": {
   "display_name": "Python 3",
   "language": "python",
   "name": "python3"
  },
  "language_info": {
   "codemirror_mode": {
    "name": "ipython",
    "version": 3
   },
   "file_extension": ".py",
   "mimetype": "text/x-python",
   "name": "python",
   "nbconvert_exporter": "python",
   "pygments_lexer": "ipython3",
   "version": "3.7.4"
  }
 },
 "nbformat": 4,
 "nbformat_minor": 2
}
